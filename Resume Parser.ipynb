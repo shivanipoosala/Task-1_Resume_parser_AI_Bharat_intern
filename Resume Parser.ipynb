{
 "cells": [
  {
   "cell_type": "markdown",
   "metadata": {
    "id": "1qu4fxHXnF41"
   },
   "source": [
    "# Bharat Intern\n"
   ]
  },
  {
   "cell_type": "markdown",
   "metadata": {
    "id": "CxrAXvwenVbb"
   },
   "source": [
    "# Artificial Intelligence"
   ]
  },
  {
   "cell_type": "markdown",
   "metadata": {
    "id": "tzZPXi10ne9M"
   },
   "source": [
    "Task-1:Resume Parser"
   ]
  },
  {
   "cell_type": "markdown",
   "metadata": {
    "id": "TcF50Rwtnoxj"
   },
   "source": [
    "Name:P.Shivani"
   ]
  },
  {
   "cell_type": "code",
   "execution_count": 1,
   "metadata": {
    "colab": {
     "base_uri": "https://localhost:8080/"
    },
    "id": "YmBdmtavnzUV",
    "outputId": "9ee71642-a054-44ed-dbec-d833003591ef"
   },
   "outputs": [
    {
     "name": "stdout",
     "output_type": "stream",
     "text": [
      "Processing c:\\users\\shivani\\appdata\\local\\pip\\cache\\wheels\\ec\\ce\\8f\\bccc2d04f3a25a5a1dd19165b2855ad3203975f25edd5838d6\\pattern-3.6-py3-none-any.whl\n",
      "Requirement already satisfied: python-docx in c:\\users\\shivani\\anaconda3\\lib\\site-packages (from pattern) (0.8.11)\n",
      "Requirement already satisfied: scipy in c:\\users\\shivani\\anaconda3\\lib\\site-packages (from pattern) (1.5.2)\n",
      "Requirement already satisfied: numpy in c:\\users\\shivani\\anaconda3\\lib\\site-packages (from pattern) (1.19.2)\n",
      "Requirement already satisfied: feedparser in c:\\users\\shivani\\anaconda3\\lib\\site-packages (from pattern) (6.0.10)\n",
      "Requirement already satisfied: nltk in c:\\users\\shivani\\anaconda3\\lib\\site-packages (from pattern) (3.5)\n",
      "Requirement already satisfied: backports.csv in c:\\users\\shivani\\anaconda3\\lib\\site-packages (from pattern) (1.0.7)\n",
      "Requirement already satisfied: future in c:\\users\\shivani\\anaconda3\\lib\\site-packages (from pattern) (0.18.2)\n",
      "Requirement already satisfied: beautifulsoup4 in c:\\users\\shivani\\anaconda3\\lib\\site-packages (from pattern) (4.9.3)\n",
      "Requirement already satisfied: requests in c:\\users\\shivani\\anaconda3\\lib\\site-packages (from pattern) (2.24.0)\n",
      "Collecting mysqlclient\n",
      "  Using cached mysqlclient-2.1.1.tar.gz (88 kB)\n",
      "Requirement already satisfied: lxml in c:\\users\\shivani\\anaconda3\\lib\\site-packages (from pattern) (4.6.1)\n",
      "Requirement already satisfied: cherrypy in c:\\users\\shivani\\anaconda3\\lib\\site-packages (from pattern) (18.8.0)\n",
      "Requirement already satisfied: pdfminer.six in c:\\users\\shivani\\anaconda3\\lib\\site-packages (from pattern) (20221105)\n",
      "Requirement already satisfied: sgmllib3k in c:\\users\\shivani\\anaconda3\\lib\\site-packages (from feedparser->pattern) (1.0.0)\n",
      "Requirement already satisfied: tqdm in c:\\users\\shivani\\anaconda3\\lib\\site-packages (from nltk->pattern) (4.50.2)\n",
      "Requirement already satisfied: joblib in c:\\users\\shivani\\anaconda3\\lib\\site-packages (from nltk->pattern) (0.17.0)\n",
      "Requirement already satisfied: click in c:\\users\\shivani\\anaconda3\\lib\\site-packages (from nltk->pattern) (7.1.2)\n",
      "Requirement already satisfied: regex in c:\\users\\shivani\\anaconda3\\lib\\site-packages (from nltk->pattern) (2020.10.15)\n",
      "Requirement already satisfied: soupsieve>1.2; python_version >= \"3.0\" in c:\\users\\shivani\\anaconda3\\lib\\site-packages (from beautifulsoup4->pattern) (2.0.1)\n",
      "Requirement already satisfied: certifi>=2017.4.17 in c:\\users\\shivani\\anaconda3\\lib\\site-packages (from requests->pattern) (2020.6.20)\n",
      "Requirement already satisfied: chardet<4,>=3.0.2 in c:\\users\\shivani\\anaconda3\\lib\\site-packages (from requests->pattern) (3.0.4)\n",
      "Requirement already satisfied: urllib3!=1.25.0,!=1.25.1,<1.26,>=1.21.1 in c:\\users\\shivani\\anaconda3\\lib\\site-packages (from requests->pattern) (1.25.11)\n",
      "Requirement already satisfied: idna<3,>=2.5 in c:\\users\\shivani\\anaconda3\\lib\\site-packages (from requests->pattern) (2.10)\n",
      "Requirement already satisfied: more-itertools in c:\\users\\shivani\\anaconda3\\lib\\site-packages (from cherrypy->pattern) (8.6.0)\n",
      "Requirement already satisfied: zc.lockfile in c:\\users\\shivani\\anaconda3\\lib\\site-packages (from cherrypy->pattern) (3.0.post1)\n",
      "Requirement already satisfied: pywin32>=227; sys_platform == \"win32\" and implementation_name == \"cpython\" and python_version < \"3.10\" in c:\\users\\shivani\\anaconda3\\lib\\site-packages (from cherrypy->pattern) (227)\n",
      "Requirement already satisfied: jaraco.collections in c:\\users\\shivani\\anaconda3\\lib\\site-packages (from cherrypy->pattern) (4.1.0)\n",
      "Requirement already satisfied: portend>=2.1.1 in c:\\users\\shivani\\anaconda3\\lib\\site-packages (from cherrypy->pattern) (3.1.0)\n",
      "Requirement already satisfied: cheroot>=8.2.1 in c:\\users\\shivani\\anaconda3\\lib\\site-packages (from cherrypy->pattern) (10.0.0)\n",
      "Requirement already satisfied: cryptography>=36.0.0 in c:\\users\\shivani\\anaconda3\\lib\\site-packages (from pdfminer.six->pattern) (40.0.2)\n",
      "Requirement already satisfied: charset-normalizer>=2.0.0 in c:\\users\\shivani\\anaconda3\\lib\\site-packages (from pdfminer.six->pattern) (3.1.0)\n",
      "Requirement already satisfied: setuptools in c:\\users\\shivani\\anaconda3\\lib\\site-packages (from zc.lockfile->cherrypy->pattern) (50.3.1.post20201107)\n",
      "Requirement already satisfied: jaraco.text in c:\\users\\shivani\\anaconda3\\lib\\site-packages (from jaraco.collections->cherrypy->pattern) (3.11.1)\n",
      "Requirement already satisfied: tempora>=1.8 in c:\\users\\shivani\\anaconda3\\lib\\site-packages (from portend>=2.1.1->cherrypy->pattern) (5.2.2)\n",
      "Requirement already satisfied: jaraco.functools in c:\\users\\shivani\\anaconda3\\lib\\site-packages (from cheroot>=8.2.1->cherrypy->pattern) (3.6.0)\n",
      "Requirement already satisfied: cffi>=1.12 in c:\\users\\shivani\\anaconda3\\lib\\site-packages (from cryptography>=36.0.0->pdfminer.six->pattern) (1.14.3)\n",
      "Requirement already satisfied: autocommand in c:\\users\\shivani\\anaconda3\\lib\\site-packages (from jaraco.text->jaraco.collections->cherrypy->pattern) (2.2.2)\n",
      "Requirement already satisfied: jaraco.context>=4.1 in c:\\users\\shivani\\anaconda3\\lib\\site-packages (from jaraco.text->jaraco.collections->cherrypy->pattern) (4.3.0)\n",
      "Requirement already satisfied: inflect in c:\\users\\shivani\\anaconda3\\lib\\site-packages (from jaraco.text->jaraco.collections->cherrypy->pattern) (6.0.4)\n",
      "Requirement already satisfied: importlib-resources; python_version < \"3.9\" in c:\\users\\shivani\\anaconda3\\lib\\site-packages (from jaraco.text->jaraco.collections->cherrypy->pattern) (5.12.0)\n",
      "Requirement already satisfied: pytz in c:\\users\\shivani\\anaconda3\\lib\\site-packages (from tempora>=1.8->portend>=2.1.1->cherrypy->pattern) (2020.1)\n",
      "Requirement already satisfied: pycparser in c:\\users\\shivani\\anaconda3\\lib\\site-packages (from cffi>=1.12->cryptography>=36.0.0->pdfminer.six->pattern) (2.20)\n",
      "Requirement already satisfied: pydantic>=1.9.1 in c:\\users\\shivani\\anaconda3\\lib\\site-packages (from inflect->jaraco.text->jaraco.collections->cherrypy->pattern) (1.10.7)\n",
      "Requirement already satisfied: zipp>=3.1.0; python_version < \"3.10\" in c:\\users\\shivani\\anaconda3\\lib\\site-packages (from importlib-resources; python_version < \"3.9\"->jaraco.text->jaraco.collections->cherrypy->pattern) (3.4.0)\n",
      "Requirement already satisfied: typing-extensions>=4.2.0 in c:\\users\\shivani\\anaconda3\\lib\\site-packages (from pydantic>=1.9.1->inflect->jaraco.text->jaraco.collections->cherrypy->pattern) (4.5.0)\n",
      "Building wheels for collected packages: mysqlclient\n",
      "  Building wheel for mysqlclient (setup.py): started\n",
      "  Building wheel for mysqlclient (setup.py): finished with status 'error'\n",
      "  Running setup.py clean for mysqlclient\n",
      "Failed to build mysqlclient\n",
      "Installing collected packages: mysqlclient, pattern\n",
      "    Running setup.py install for mysqlclient: started\n",
      "    Running setup.py install for mysqlclient: finished with status 'error'\n"
     ]
    },
    {
     "name": "stderr",
     "output_type": "stream",
     "text": [
      "  ERROR: Command errored out with exit status 1:\n",
      "   command: 'C:\\Users\\Shivani\\anaconda3\\python.exe' -u -c 'import sys, setuptools, tokenize; sys.argv[0] = '\"'\"'C:\\\\Users\\\\Shivani\\\\AppData\\\\Local\\\\Temp\\\\pip-install-d67a_m65\\\\mysqlclient\\\\setup.py'\"'\"'; __file__='\"'\"'C:\\\\Users\\\\Shivani\\\\AppData\\\\Local\\\\Temp\\\\pip-install-d67a_m65\\\\mysqlclient\\\\setup.py'\"'\"';f=getattr(tokenize, '\"'\"'open'\"'\"', open)(__file__);code=f.read().replace('\"'\"'\\r\\n'\"'\"', '\"'\"'\\n'\"'\"');f.close();exec(compile(code, __file__, '\"'\"'exec'\"'\"'))' bdist_wheel -d 'C:\\Users\\Shivani\\AppData\\Local\\Temp\\pip-wheel-mlwlrx2c'\n",
      "       cwd: C:\\Users\\Shivani\\AppData\\Local\\Temp\\pip-install-d67a_m65\\mysqlclient\\\n",
      "  Complete output (23 lines):\n",
      "  running bdist_wheel\n",
      "  running build\n",
      "  running build_py\n",
      "  creating build\n",
      "  creating build\\lib.win32-3.8\n",
      "  creating build\\lib.win32-3.8\\MySQLdb\n",
      "  copying MySQLdb\\__init__.py -> build\\lib.win32-3.8\\MySQLdb\n",
      "  copying MySQLdb\\_exceptions.py -> build\\lib.win32-3.8\\MySQLdb\n",
      "  copying MySQLdb\\connections.py -> build\\lib.win32-3.8\\MySQLdb\n",
      "  copying MySQLdb\\converters.py -> build\\lib.win32-3.8\\MySQLdb\n",
      "  copying MySQLdb\\cursors.py -> build\\lib.win32-3.8\\MySQLdb\n",
      "  copying MySQLdb\\release.py -> build\\lib.win32-3.8\\MySQLdb\n",
      "  copying MySQLdb\\times.py -> build\\lib.win32-3.8\\MySQLdb\n",
      "  creating build\\lib.win32-3.8\\MySQLdb\\constants\n",
      "  copying MySQLdb\\constants\\__init__.py -> build\\lib.win32-3.8\\MySQLdb\\constants\n",
      "  copying MySQLdb\\constants\\CLIENT.py -> build\\lib.win32-3.8\\MySQLdb\\constants\n",
      "  copying MySQLdb\\constants\\CR.py -> build\\lib.win32-3.8\\MySQLdb\\constants\n",
      "  copying MySQLdb\\constants\\ER.py -> build\\lib.win32-3.8\\MySQLdb\\constants\n",
      "  copying MySQLdb\\constants\\FIELD_TYPE.py -> build\\lib.win32-3.8\\MySQLdb\\constants\n",
      "  copying MySQLdb\\constants\\FLAG.py -> build\\lib.win32-3.8\\MySQLdb\\constants\n",
      "  running build_ext\n",
      "  building 'MySQLdb._mysql' extension\n",
      "  error: Microsoft Visual C++ 14.0 or greater is required. Get it with \"Microsoft C++ Build Tools\": https://visualstudio.microsoft.com/visual-cpp-build-tools/\n",
      "  ----------------------------------------\n",
      "  ERROR: Failed building wheel for mysqlclient\n",
      "    ERROR: Command errored out with exit status 1:\n",
      "     command: 'C:\\Users\\Shivani\\anaconda3\\python.exe' -u -c 'import sys, setuptools, tokenize; sys.argv[0] = '\"'\"'C:\\\\Users\\\\Shivani\\\\AppData\\\\Local\\\\Temp\\\\pip-install-d67a_m65\\\\mysqlclient\\\\setup.py'\"'\"'; __file__='\"'\"'C:\\\\Users\\\\Shivani\\\\AppData\\\\Local\\\\Temp\\\\pip-install-d67a_m65\\\\mysqlclient\\\\setup.py'\"'\"';f=getattr(tokenize, '\"'\"'open'\"'\"', open)(__file__);code=f.read().replace('\"'\"'\\r\\n'\"'\"', '\"'\"'\\n'\"'\"');f.close();exec(compile(code, __file__, '\"'\"'exec'\"'\"'))' install --record 'C:\\Users\\Shivani\\AppData\\Local\\Temp\\pip-record-reztc816\\install-record.txt' --single-version-externally-managed --compile --install-headers 'C:\\Users\\Shivani\\anaconda3\\Include\\mysqlclient'\n",
      "         cwd: C:\\Users\\Shivani\\AppData\\Local\\Temp\\pip-install-d67a_m65\\mysqlclient\\\n",
      "    Complete output (23 lines):\n",
      "    running install\n",
      "    running build\n",
      "    running build_py\n",
      "    creating build\n",
      "    creating build\\lib.win32-3.8\n",
      "    creating build\\lib.win32-3.8\\MySQLdb\n",
      "    copying MySQLdb\\__init__.py -> build\\lib.win32-3.8\\MySQLdb\n",
      "    copying MySQLdb\\_exceptions.py -> build\\lib.win32-3.8\\MySQLdb\n",
      "    copying MySQLdb\\connections.py -> build\\lib.win32-3.8\\MySQLdb\n",
      "    copying MySQLdb\\converters.py -> build\\lib.win32-3.8\\MySQLdb\n",
      "    copying MySQLdb\\cursors.py -> build\\lib.win32-3.8\\MySQLdb\n",
      "    copying MySQLdb\\release.py -> build\\lib.win32-3.8\\MySQLdb\n",
      "    copying MySQLdb\\times.py -> build\\lib.win32-3.8\\MySQLdb\n",
      "    creating build\\lib.win32-3.8\\MySQLdb\\constants\n",
      "    copying MySQLdb\\constants\\__init__.py -> build\\lib.win32-3.8\\MySQLdb\\constants\n",
      "    copying MySQLdb\\constants\\CLIENT.py -> build\\lib.win32-3.8\\MySQLdb\\constants\n",
      "    copying MySQLdb\\constants\\CR.py -> build\\lib.win32-3.8\\MySQLdb\\constants\n",
      "    copying MySQLdb\\constants\\ER.py -> build\\lib.win32-3.8\\MySQLdb\\constants\n",
      "    copying MySQLdb\\constants\\FIELD_TYPE.py -> build\\lib.win32-3.8\\MySQLdb\\constants\n",
      "    copying MySQLdb\\constants\\FLAG.py -> build\\lib.win32-3.8\\MySQLdb\\constants\n",
      "    running build_ext\n",
      "    building 'MySQLdb._mysql' extension\n",
      "    error: Microsoft Visual C++ 14.0 or greater is required. Get it with \"Microsoft C++ Build Tools\": https://visualstudio.microsoft.com/visual-cpp-build-tools/\n",
      "    ----------------------------------------\n",
      "ERROR: Command errored out with exit status 1: 'C:\\Users\\Shivani\\anaconda3\\python.exe' -u -c 'import sys, setuptools, tokenize; sys.argv[0] = '\"'\"'C:\\\\Users\\\\Shivani\\\\AppData\\\\Local\\\\Temp\\\\pip-install-d67a_m65\\\\mysqlclient\\\\setup.py'\"'\"'; __file__='\"'\"'C:\\\\Users\\\\Shivani\\\\AppData\\\\Local\\\\Temp\\\\pip-install-d67a_m65\\\\mysqlclient\\\\setup.py'\"'\"';f=getattr(tokenize, '\"'\"'open'\"'\"', open)(__file__);code=f.read().replace('\"'\"'\\r\\n'\"'\"', '\"'\"'\\n'\"'\"');f.close();exec(compile(code, __file__, '\"'\"'exec'\"'\"'))' install --record 'C:\\Users\\Shivani\\AppData\\Local\\Temp\\pip-record-reztc816\\install-record.txt' --single-version-externally-managed --compile --install-headers 'C:\\Users\\Shivani\\anaconda3\\Include\\mysqlclient' Check the logs for full command output.\n"
     ]
    },
    {
     "name": "stdout",
     "output_type": "stream",
     "text": [
      "Requirement already satisfied: textblob in c:\\users\\shivani\\anaconda3\\lib\\site-packages (0.17.1)\n",
      "Requirement already satisfied: nltk>=3.1; python_version >= \"3\" in c:\\users\\shivani\\anaconda3\\lib\\site-packages (from textblob) (3.5)\n",
      "Requirement already satisfied: tqdm in c:\\users\\shivani\\anaconda3\\lib\\site-packages (from nltk>=3.1; python_version >= \"3\"->textblob) (4.50.2)\n",
      "Requirement already satisfied: joblib in c:\\users\\shivani\\anaconda3\\lib\\site-packages (from nltk>=3.1; python_version >= \"3\"->textblob) (0.17.0)\n",
      "Requirement already satisfied: regex in c:\\users\\shivani\\anaconda3\\lib\\site-packages (from nltk>=3.1; python_version >= \"3\"->textblob) (2020.10.15)\n",
      "Requirement already satisfied: click in c:\\users\\shivani\\anaconda3\\lib\\site-packages (from nltk>=3.1; python_version >= \"3\"->textblob) (7.1.2)\n",
      "Requirement already satisfied: textdistance in c:\\users\\shivani\\anaconda3\\lib\\site-packages (4.5.0)\n"
     ]
    }
   ],
   "source": [
    "!pip install pattern\n",
    "!pip install textblob\n",
    "!pip install textdistance"
   ]
  },
  {
   "cell_type": "code",
   "execution_count": 2,
   "metadata": {
    "colab": {
     "base_uri": "https://localhost:8080/"
    },
    "id": "sKXcdYGTS_UK",
    "outputId": "d68af1cb-25a1-440f-842b-14b7013c53d6"
   },
   "outputs": [
    {
     "name": "stdout",
     "output_type": "stream",
     "text": [
      "Requirement already satisfied: matplotlib-venn in c:\\users\\shivani\\anaconda3\\lib\\site-packages (0.11.9)\n",
      "Requirement already satisfied: numpy in c:\\users\\shivani\\anaconda3\\lib\\site-packages (from matplotlib-venn) (1.19.2)\n",
      "Requirement already satisfied: matplotlib in c:\\users\\shivani\\anaconda3\\lib\\site-packages (from matplotlib-venn) (3.3.1)\n",
      "Requirement already satisfied: scipy in c:\\users\\shivani\\anaconda3\\lib\\site-packages (from matplotlib-venn) (1.5.2)\n",
      "Requirement already satisfied: pillow>=6.2.0 in c:\\users\\shivani\\anaconda3\\lib\\site-packages (from matplotlib->matplotlib-venn) (8.0.1)\n",
      "Requirement already satisfied: python-dateutil>=2.1 in c:\\users\\shivani\\anaconda3\\lib\\site-packages (from matplotlib->matplotlib-venn) (2.8.1)\n",
      "Requirement already satisfied: pyparsing!=2.0.4,!=2.1.2,!=2.1.6,>=2.0.3 in c:\\users\\shivani\\anaconda3\\lib\\site-packages (from matplotlib->matplotlib-venn) (2.4.7)\n",
      "Requirement already satisfied: cycler>=0.10 in c:\\users\\shivani\\anaconda3\\lib\\site-packages (from matplotlib->matplotlib-venn) (0.10.0)\n",
      "Requirement already satisfied: certifi>=2020.06.20 in c:\\users\\shivani\\anaconda3\\lib\\site-packages (from matplotlib->matplotlib-venn) (2020.6.20)\n",
      "Requirement already satisfied: kiwisolver>=1.0.1 in c:\\users\\shivani\\anaconda3\\lib\\site-packages (from matplotlib->matplotlib-venn) (1.3.0)\n",
      "Requirement already satisfied: six>=1.5 in c:\\users\\shivani\\anaconda3\\lib\\site-packages (from python-dateutil>=2.1->matplotlib->matplotlib-venn) (1.15.0)\n"
     ]
    }
   ],
   "source": [
    "!pip install matplotlib-venn"
   ]
  },
  {
   "cell_type": "code",
   "execution_count": 3,
   "metadata": {
    "colab": {
     "base_uri": "https://localhost:8080/"
    },
    "id": "9vIm6_saTD-e",
    "outputId": "901a80f6-c393-4665-fe1b-6eeb07f0dcfd"
   },
   "outputs": [
    {
     "name": "stderr",
     "output_type": "stream",
     "text": [
      "'apt-get' is not recognized as an internal or external command,\n",
      "operable program or batch file.\n"
     ]
    }
   ],
   "source": [
    "!apt-get -qq install -y libfluidsynth1"
   ]
  },
  {
   "cell_type": "code",
   "execution_count": 4,
   "metadata": {
    "colab": {
     "base_uri": "https://localhost:8080/"
    },
    "id": "MoEH7tbCTFrv",
    "outputId": "5c79c6f1-0726-4f20-b215-ef18660d7df1"
   },
   "outputs": [
    {
     "name": "stderr",
     "output_type": "stream",
     "text": [
      "'apt-get' is not recognized as an internal or external command,\n",
      "operable program or batch file.\n"
     ]
    }
   ],
   "source": [
    "# https://pypi.python.org/pypi/libarchive\n",
    "!apt-get -qq install -y libarchive-dev && pip install -U libarchive\n",
    "import libarchive"
   ]
  },
  {
   "cell_type": "code",
   "execution_count": 2,
   "metadata": {},
   "outputs": [
    {
     "name": "stdout",
     "output_type": "stream",
     "text": [
      "Requirement already satisfied: pydot in c:\\users\\shivani\\anaconda3\\lib\\site-packages (1.4.2)\n",
      "Requirement already satisfied: pyparsing>=2.1.4 in c:\\users\\shivani\\anaconda3\\lib\\site-packages (from pydot) (2.4.7)\n",
      "Note: you may need to restart the kernel to use updated packages.\n"
     ]
    }
   ],
   "source": [
    "pip install pydot"
   ]
  },
  {
   "cell_type": "code",
   "execution_count": 3,
   "metadata": {
    "colab": {
     "base_uri": "https://localhost:8080/"
    },
    "id": "tvcecD1GTKOM",
    "outputId": "b291cf45-6215-4940-a96e-155cb6eeadb5"
   },
   "outputs": [
    {
     "name": "stderr",
     "output_type": "stream",
     "text": [
      "'apt-get' is not recognized as an internal or external command,\n",
      "operable program or batch file.\n"
     ]
    }
   ],
   "source": [
    "!apt-get -qq install -y graphviz && pip install pydot\n",
    "import pydot"
   ]
  },
  {
   "cell_type": "code",
   "execution_count": 4,
   "metadata": {
    "colab": {
     "base_uri": "https://localhost:8080/"
    },
    "id": "JVeUkiMgTS1g",
    "outputId": "d1204aa1-06d7-4089-952d-10af02e12fdf"
   },
   "outputs": [
    {
     "name": "stdout",
     "output_type": "stream",
     "text": [
      "Collecting cartopy\n",
      "  Using cached Cartopy-0.21.1.tar.gz (10.9 MB)\n",
      "  Installing build dependencies: started\n",
      "  Installing build dependencies: finished with status 'done'\n",
      "  Getting requirements to build wheel: started\n",
      "  Getting requirements to build wheel: finished with status 'done'\n",
      "    Preparing wheel metadata: started\n",
      "    Preparing wheel metadata: finished with status 'done'\n",
      "Requirement already satisfied: numpy>=1.18 in c:\\users\\shivani\\anaconda3\\lib\\site-packages (from cartopy) (1.19.2)\n",
      "Collecting pyshp>=2.1\n",
      "  Using cached pyshp-2.3.1-py2.py3-none-any.whl (46 kB)\n",
      "Collecting shapely>=1.6.4\n",
      "  Using cached shapely-2.0.1-cp38-cp38-win32.whl (1.2 MB)\n",
      "Requirement already satisfied: matplotlib>=3.1 in c:\\users\\shivani\\anaconda3\\lib\\site-packages (from cartopy) (3.3.1)\n",
      "Collecting pyproj>=3.0.0\n",
      "  Using cached pyproj-3.5.0-cp38-cp38-win32.whl (4.5 MB)\n",
      "Requirement already satisfied: kiwisolver>=1.0.1 in c:\\users\\shivani\\anaconda3\\lib\\site-packages (from matplotlib>=3.1->cartopy) (1.3.0)\n",
      "Requirement already satisfied: certifi>=2020.06.20 in c:\\users\\shivani\\anaconda3\\lib\\site-packages (from matplotlib>=3.1->cartopy) (2020.6.20)\n",
      "Requirement already satisfied: pillow>=6.2.0 in c:\\users\\shivani\\anaconda3\\lib\\site-packages (from matplotlib>=3.1->cartopy) (8.0.1)\n",
      "Requirement already satisfied: cycler>=0.10 in c:\\users\\shivani\\anaconda3\\lib\\site-packages (from matplotlib>=3.1->cartopy) (0.10.0)\n",
      "Requirement already satisfied: python-dateutil>=2.1 in c:\\users\\shivani\\anaconda3\\lib\\site-packages (from matplotlib>=3.1->cartopy) (2.8.1)\n",
      "Requirement already satisfied: pyparsing!=2.0.4,!=2.1.2,!=2.1.6,>=2.0.3 in c:\\users\\shivani\\anaconda3\\lib\\site-packages (from matplotlib>=3.1->cartopy) (2.4.7)\n",
      "Requirement already satisfied: six in c:\\users\\shivani\\anaconda3\\lib\\site-packages (from cycler>=0.10->matplotlib>=3.1->cartopy) (1.15.0)\n",
      "Building wheels for collected packages: cartopy\n",
      "  Building wheel for cartopy (PEP 517): started\n",
      "  Building wheel for cartopy (PEP 517): finished with status 'error'\n",
      "Failed to build cartopy\n"
     ]
    },
    {
     "name": "stderr",
     "output_type": "stream",
     "text": [
      "  ERROR: Command errored out with exit status 1:\n",
      "   command: 'C:\\Users\\Shivani\\anaconda3\\python.exe' 'C:\\Users\\Shivani\\anaconda3\\lib\\site-packages\\pip\\_vendor\\pep517\\_in_process.py' build_wheel 'C:\\Users\\Shivani\\AppData\\Local\\Temp\\tmpn745ae9l'\n",
      "       cwd: C:\\Users\\Shivani\\AppData\\Local\\Temp\\pip-install-mj63lhkp\\cartopy\n",
      "  Complete output (279 lines):\n",
      "  running bdist_wheel\n",
      "  running build\n",
      "  running build_py\n",
      "  creating build\n",
      "  creating build\\lib.win32-cpython-38\n",
      "  creating build\\lib.win32-cpython-38\\cartopy\n",
      "  copying lib\\cartopy\\crs.py -> build\\lib.win32-cpython-38\\cartopy\n",
      "  copying lib\\cartopy\\geodesic.py -> build\\lib.win32-cpython-38\\cartopy\n",
      "  copying lib\\cartopy\\img_transform.py -> build\\lib.win32-cpython-38\\cartopy\n",
      "  copying lib\\cartopy\\util.py -> build\\lib.win32-cpython-38\\cartopy\n",
      "  copying lib\\cartopy\\vector_transform.py -> build\\lib.win32-cpython-38\\cartopy\n",
      "  copying lib\\cartopy\\_epsg.py -> build\\lib.win32-cpython-38\\cartopy\n",
      "  copying lib\\cartopy\\_version.py -> build\\lib.win32-cpython-38\\cartopy\n",
      "  copying lib\\cartopy\\__init__.py -> build\\lib.win32-cpython-38\\cartopy\n",
      "  creating build\\lib.win32-cpython-38\\cartopy\\feature\n",
      "  copying lib\\cartopy\\feature\\nightshade.py -> build\\lib.win32-cpython-38\\cartopy\\feature\n",
      "  copying lib\\cartopy\\feature\\__init__.py -> build\\lib.win32-cpython-38\\cartopy\\feature\n",
      "  creating build\\lib.win32-cpython-38\\cartopy\\io\n",
      "  copying lib\\cartopy\\io\\img_nest.py -> build\\lib.win32-cpython-38\\cartopy\\io\n",
      "  copying lib\\cartopy\\io\\img_tiles.py -> build\\lib.win32-cpython-38\\cartopy\\io\n",
      "  copying lib\\cartopy\\io\\ogc_clients.py -> build\\lib.win32-cpython-38\\cartopy\\io\n",
      "  copying lib\\cartopy\\io\\shapereader.py -> build\\lib.win32-cpython-38\\cartopy\\io\n",
      "  copying lib\\cartopy\\io\\srtm.py -> build\\lib.win32-cpython-38\\cartopy\\io\n",
      "  copying lib\\cartopy\\io\\__init__.py -> build\\lib.win32-cpython-38\\cartopy\\io\n",
      "  creating build\\lib.win32-cpython-38\\cartopy\\mpl\n",
      "  copying lib\\cartopy\\mpl\\clip_path.py -> build\\lib.win32-cpython-38\\cartopy\\mpl\n",
      "  copying lib\\cartopy\\mpl\\contour.py -> build\\lib.win32-cpython-38\\cartopy\\mpl\n",
      "  copying lib\\cartopy\\mpl\\feature_artist.py -> build\\lib.win32-cpython-38\\cartopy\\mpl\n",
      "  copying lib\\cartopy\\mpl\\geoaxes.py -> build\\lib.win32-cpython-38\\cartopy\\mpl\n",
      "  copying lib\\cartopy\\mpl\\geocollection.py -> build\\lib.win32-cpython-38\\cartopy\\mpl\n",
      "  copying lib\\cartopy\\mpl\\gridliner.py -> build\\lib.win32-cpython-38\\cartopy\\mpl\n",
      "  copying lib\\cartopy\\mpl\\patch.py -> build\\lib.win32-cpython-38\\cartopy\\mpl\n",
      "  copying lib\\cartopy\\mpl\\slippy_image_artist.py -> build\\lib.win32-cpython-38\\cartopy\\mpl\n",
      "  copying lib\\cartopy\\mpl\\style.py -> build\\lib.win32-cpython-38\\cartopy\\mpl\n",
      "  copying lib\\cartopy\\mpl\\ticker.py -> build\\lib.win32-cpython-38\\cartopy\\mpl\n",
      "  copying lib\\cartopy\\mpl\\__init__.py -> build\\lib.win32-cpython-38\\cartopy\\mpl\n",
      "  creating build\\lib.win32-cpython-38\\cartopy\\tests\n",
      "  copying lib\\cartopy\\tests\\conftest.py -> build\\lib.win32-cpython-38\\cartopy\\tests\n",
      "  copying lib\\cartopy\\tests\\test_coastline.py -> build\\lib.win32-cpython-38\\cartopy\\tests\n",
      "  copying lib\\cartopy\\tests\\test_coding_standards.py -> build\\lib.win32-cpython-38\\cartopy\\tests\n",
      "  copying lib\\cartopy\\tests\\test_crs.py -> build\\lib.win32-cpython-38\\cartopy\\tests\n",
      "  copying lib\\cartopy\\tests\\test_crs_transform_vectors.py -> build\\lib.win32-cpython-38\\cartopy\\tests\n",
      "  copying lib\\cartopy\\tests\\test_features.py -> build\\lib.win32-cpython-38\\cartopy\\tests\n",
      "  copying lib\\cartopy\\tests\\test_geodesic.py -> build\\lib.win32-cpython-38\\cartopy\\tests\n",
      "  copying lib\\cartopy\\tests\\test_img_nest.py -> build\\lib.win32-cpython-38\\cartopy\\tests\n",
      "  copying lib\\cartopy\\tests\\test_img_tiles.py -> build\\lib.win32-cpython-38\\cartopy\\tests\n",
      "  copying lib\\cartopy\\tests\\test_img_transform.py -> build\\lib.win32-cpython-38\\cartopy\\tests\n",
      "  copying lib\\cartopy\\tests\\test_linear_ring.py -> build\\lib.win32-cpython-38\\cartopy\\tests\n",
      "  copying lib\\cartopy\\tests\\test_line_string.py -> build\\lib.win32-cpython-38\\cartopy\\tests\n",
      "  copying lib\\cartopy\\tests\\test_polygon.py -> build\\lib.win32-cpython-38\\cartopy\\tests\n",
      "  copying lib\\cartopy\\tests\\test_shapereader.py -> build\\lib.win32-cpython-38\\cartopy\\tests\n",
      "  copying lib\\cartopy\\tests\\test_util.py -> build\\lib.win32-cpython-38\\cartopy\\tests\n",
      "  copying lib\\cartopy\\tests\\test_vector_transform.py -> build\\lib.win32-cpython-38\\cartopy\\tests\n",
      "  copying lib\\cartopy\\tests\\__init__.py -> build\\lib.win32-cpython-38\\cartopy\\tests\n",
      "  creating build\\lib.win32-cpython-38\\cartopy\\tests\\crs\n",
      "  copying lib\\cartopy\\tests\\crs\\helpers.py -> build\\lib.win32-cpython-38\\cartopy\\tests\\crs\n",
      "  copying lib\\cartopy\\tests\\crs\\test_albers_equal_area.py -> build\\lib.win32-cpython-38\\cartopy\\tests\\crs\n",
      "  copying lib\\cartopy\\tests\\crs\\test_azimuthal_equidistant.py -> build\\lib.win32-cpython-38\\cartopy\\tests\\crs\n",
      "  copying lib\\cartopy\\tests\\crs\\test_eckert.py -> build\\lib.win32-cpython-38\\cartopy\\tests\\crs\n",
      "  copying lib\\cartopy\\tests\\crs\\test_equal_earth.py -> build\\lib.win32-cpython-38\\cartopy\\tests\\crs\n",
      "  copying lib\\cartopy\\tests\\crs\\test_equidistant_conic.py -> build\\lib.win32-cpython-38\\cartopy\\tests\\crs\n",
      "  copying lib\\cartopy\\tests\\crs\\test_geostationary.py -> build\\lib.win32-cpython-38\\cartopy\\tests\\crs\n",
      "  copying lib\\cartopy\\tests\\crs\\test_gnomonic.py -> build\\lib.win32-cpython-38\\cartopy\\tests\\crs\n",
      "  copying lib\\cartopy\\tests\\crs\\test_interrupted_goode_homolosine.py -> build\\lib.win32-cpython-38\\cartopy\\tests\\crs\n",
      "  copying lib\\cartopy\\tests\\crs\\test_lambert_azimuthal_equal_area.py -> build\\lib.win32-cpython-38\\cartopy\\tests\\crs\n",
      "  copying lib\\cartopy\\tests\\crs\\test_lambert_conformal.py -> build\\lib.win32-cpython-38\\cartopy\\tests\\crs\n",
      "  copying lib\\cartopy\\tests\\crs\\test_mercator.py -> build\\lib.win32-cpython-38\\cartopy\\tests\\crs\n",
      "  copying lib\\cartopy\\tests\\crs\\test_miller.py -> build\\lib.win32-cpython-38\\cartopy\\tests\\crs\n",
      "  copying lib\\cartopy\\tests\\crs\\test_mollweide.py -> build\\lib.win32-cpython-38\\cartopy\\tests\\crs\n",
      "  copying lib\\cartopy\\tests\\crs\\test_nearside_perspective.py -> build\\lib.win32-cpython-38\\cartopy\\tests\\crs\n",
      "  copying lib\\cartopy\\tests\\crs\\test_orthographic.py -> build\\lib.win32-cpython-38\\cartopy\\tests\\crs\n",
      "  copying lib\\cartopy\\tests\\crs\\test_robinson.py -> build\\lib.win32-cpython-38\\cartopy\\tests\\crs\n",
      "  copying lib\\cartopy\\tests\\crs\\test_rotated_geodetic.py -> build\\lib.win32-cpython-38\\cartopy\\tests\\crs\n",
      "  copying lib\\cartopy\\tests\\crs\\test_rotated_pole.py -> build\\lib.win32-cpython-38\\cartopy\\tests\\crs\n",
      "  copying lib\\cartopy\\tests\\crs\\test_sinusoidal.py -> build\\lib.win32-cpython-38\\cartopy\\tests\\crs\n",
      "  copying lib\\cartopy\\tests\\crs\\test_stereographic.py -> build\\lib.win32-cpython-38\\cartopy\\tests\\crs\n",
      "  copying lib\\cartopy\\tests\\crs\\test_transverse_mercator.py -> build\\lib.win32-cpython-38\\cartopy\\tests\\crs\n",
      "  copying lib\\cartopy\\tests\\crs\\test_utm.py -> build\\lib.win32-cpython-38\\cartopy\\tests\\crs\n",
      "  copying lib\\cartopy\\tests\\crs\\__init__.py -> build\\lib.win32-cpython-38\\cartopy\\tests\\crs\n",
      "  creating build\\lib.win32-cpython-38\\cartopy\\tests\\feature\n",
      "  copying lib\\cartopy\\tests\\feature\\test_nightshade.py -> build\\lib.win32-cpython-38\\cartopy\\tests\\feature\n",
      "  copying lib\\cartopy\\tests\\feature\\__init__.py -> build\\lib.win32-cpython-38\\cartopy\\tests\\feature\n",
      "  creating build\\lib.win32-cpython-38\\cartopy\\tests\\io\n",
      "  copying lib\\cartopy\\tests\\io\\test_downloaders.py -> build\\lib.win32-cpython-38\\cartopy\\tests\\io\n",
      "  copying lib\\cartopy\\tests\\io\\test_ogc_clients.py -> build\\lib.win32-cpython-38\\cartopy\\tests\\io\n",
      "  copying lib\\cartopy\\tests\\io\\test_srtm.py -> build\\lib.win32-cpython-38\\cartopy\\tests\\io\n",
      "  copying lib\\cartopy\\tests\\io\\__init__.py -> build\\lib.win32-cpython-38\\cartopy\\tests\\io\n",
      "  creating build\\lib.win32-cpython-38\\cartopy\\tests\\mpl\n",
      "  copying lib\\cartopy\\tests\\mpl\\conftest.py -> build\\lib.win32-cpython-38\\cartopy\\tests\\mpl\n",
      "  copying lib\\cartopy\\tests\\mpl\\test_axes.py -> build\\lib.win32-cpython-38\\cartopy\\tests\\mpl\n",
      "  copying lib\\cartopy\\tests\\mpl\\test_caching.py -> build\\lib.win32-cpython-38\\cartopy\\tests\\mpl\n",
      "  copying lib\\cartopy\\tests\\mpl\\test_contour.py -> build\\lib.win32-cpython-38\\cartopy\\tests\\mpl\n",
      "  copying lib\\cartopy\\tests\\mpl\\test_crs.py -> build\\lib.win32-cpython-38\\cartopy\\tests\\mpl\n",
      "  copying lib\\cartopy\\tests\\mpl\\test_examples.py -> build\\lib.win32-cpython-38\\cartopy\\tests\\mpl\n",
      "  copying lib\\cartopy\\tests\\mpl\\test_features.py -> build\\lib.win32-cpython-38\\cartopy\\tests\\mpl\n",
      "  copying lib\\cartopy\\tests\\mpl\\test_feature_artist.py -> build\\lib.win32-cpython-38\\cartopy\\tests\\mpl\n",
      "  copying lib\\cartopy\\tests\\mpl\\test_gridliner.py -> build\\lib.win32-cpython-38\\cartopy\\tests\\mpl\n",
      "  copying lib\\cartopy\\tests\\mpl\\test_images.py -> build\\lib.win32-cpython-38\\cartopy\\tests\\mpl\n",
      "  copying lib\\cartopy\\tests\\mpl\\test_img_transform.py -> build\\lib.win32-cpython-38\\cartopy\\tests\\mpl\n",
      "  copying lib\\cartopy\\tests\\mpl\\test_mpl_integration.py -> build\\lib.win32-cpython-38\\cartopy\\tests\\mpl\n",
      "  copying lib\\cartopy\\tests\\mpl\\test_nightshade.py -> build\\lib.win32-cpython-38\\cartopy\\tests\\mpl\n",
      "  copying lib\\cartopy\\tests\\mpl\\test_patch.py -> build\\lib.win32-cpython-38\\cartopy\\tests\\mpl\n",
      "  copying lib\\cartopy\\tests\\mpl\\test_plots.py -> build\\lib.win32-cpython-38\\cartopy\\tests\\mpl\n",
      "  copying lib\\cartopy\\tests\\mpl\\test_pseudo_color.py -> build\\lib.win32-cpython-38\\cartopy\\tests\\mpl\n",
      "  copying lib\\cartopy\\tests\\mpl\\test_quiver.py -> build\\lib.win32-cpython-38\\cartopy\\tests\\mpl\n",
      "  copying lib\\cartopy\\tests\\mpl\\test_set_extent.py -> build\\lib.win32-cpython-38\\cartopy\\tests\\mpl\n",
      "  copying lib\\cartopy\\tests\\mpl\\test_shapely_to_mpl.py -> build\\lib.win32-cpython-38\\cartopy\\tests\\mpl\n",
      "  copying lib\\cartopy\\tests\\mpl\\test_style.py -> build\\lib.win32-cpython-38\\cartopy\\tests\\mpl\n",
      "  copying lib\\cartopy\\tests\\mpl\\test_ticker.py -> build\\lib.win32-cpython-38\\cartopy\\tests\\mpl\n",
      "  copying lib\\cartopy\\tests\\mpl\\test_ticks.py -> build\\lib.win32-cpython-38\\cartopy\\tests\\mpl\n",
      "  copying lib\\cartopy\\tests\\mpl\\test_web_services.py -> build\\lib.win32-cpython-38\\cartopy\\tests\\mpl\n",
      "  copying lib\\cartopy\\tests\\mpl\\__init__.py -> build\\lib.win32-cpython-38\\cartopy\\tests\\mpl\n",
      "  creating build\\lib.win32-cpython-38\\cartopy\\tests\\mpl\\baseline_images\n",
      "  creating build\\lib.win32-cpython-38\\cartopy\\tests\\mpl\\baseline_images\\mpl\n",
      "  creating build\\lib.win32-cpython-38\\cartopy\\tests\\mpl\\baseline_images\\mpl\\test_axes\n",
      "  copying lib\\cartopy\\tests\\mpl\\baseline_images\\mpl\\test_axes\\geoaxes_set_boundary_clipping.png -> build\\lib.win32-cpython-38\\cartopy\\tests\\mpl\\baseline_images\\mpl\\test_axes\n",
      "  copying lib\\cartopy\\tests\\mpl\\baseline_images\\mpl\\test_axes\\geoaxes_subslice.png -> build\\lib.win32-cpython-38\\cartopy\\tests\\mpl\\baseline_images\\mpl\\test_axes\n",
      "  creating build\\lib.win32-cpython-38\\cartopy\\tests\\mpl\\baseline_images\\mpl\\test_crs\n",
      "  copying lib\\cartopy\\tests\\mpl\\baseline_images\\mpl\\test_crs\\igh_land.png -> build\\lib.win32-cpython-38\\cartopy\\tests\\mpl\\baseline_images\\mpl\\test_crs\n",
      "  copying lib\\cartopy\\tests\\mpl\\baseline_images\\mpl\\test_crs\\igh_ocean.png -> build\\lib.win32-cpython-38\\cartopy\\tests\\mpl\\baseline_images\\mpl\\test_crs\n",
      "  copying lib\\cartopy\\tests\\mpl\\baseline_images\\mpl\\test_crs\\lambert_conformal_south.png -> build\\lib.win32-cpython-38\\cartopy\\tests\\mpl\\baseline_images\\mpl\\test_crs\n",
      "  creating build\\lib.win32-cpython-38\\cartopy\\tests\\mpl\\baseline_images\\mpl\\test_examples\n",
      "  copying lib\\cartopy\\tests\\mpl\\baseline_images\\mpl\\test_examples\\contour_label.png -> build\\lib.win32-cpython-38\\cartopy\\tests\\mpl\\baseline_images\\mpl\\test_examples\n",
      "  copying lib\\cartopy\\tests\\mpl\\baseline_images\\mpl\\test_examples\\global_map.png -> build\\lib.win32-cpython-38\\cartopy\\tests\\mpl\\baseline_images\\mpl\\test_examples\n",
      "  creating build\\lib.win32-cpython-38\\cartopy\\tests\\mpl\\baseline_images\\mpl\\test_features\n",
      "  copying lib\\cartopy\\tests\\mpl\\baseline_images\\mpl\\test_features\\gshhs_coastlines.png -> build\\lib.win32-cpython-38\\cartopy\\tests\\mpl\\baseline_images\\mpl\\test_features\n",
      "  copying lib\\cartopy\\tests\\mpl\\baseline_images\\mpl\\test_features\\natural_earth.png -> build\\lib.win32-cpython-38\\cartopy\\tests\\mpl\\baseline_images\\mpl\\test_features\n",
      "  copying lib\\cartopy\\tests\\mpl\\baseline_images\\mpl\\test_features\\natural_earth_custom.png -> build\\lib.win32-cpython-38\\cartopy\\tests\\mpl\\baseline_images\\mpl\\test_features\n",
      "  copying lib\\cartopy\\tests\\mpl\\baseline_images\\mpl\\test_features\\wfs.png -> build\\lib.win32-cpython-38\\cartopy\\tests\\mpl\\baseline_images\\mpl\\test_features\n",
      "  creating build\\lib.win32-cpython-38\\cartopy\\tests\\mpl\\baseline_images\\mpl\\test_gridliner\n",
      "  copying lib\\cartopy\\tests\\mpl\\baseline_images\\mpl\\test_gridliner\\gridliner1.png -> build\\lib.win32-cpython-38\\cartopy\\tests\\mpl\\baseline_images\\mpl\\test_gridliner\n",
      "  copying lib\\cartopy\\tests\\mpl\\baseline_images\\mpl\\test_gridliner\\gridliner_labels.png -> build\\lib.win32-cpython-38\\cartopy\\tests\\mpl\\baseline_images\\mpl\\test_gridliner\n",
      "  copying lib\\cartopy\\tests\\mpl\\baseline_images\\mpl\\test_gridliner\\gridliner_labels_bbox_style.png -> build\\lib.win32-cpython-38\\cartopy\\tests\\mpl\\baseline_images\\mpl\\test_gridliner\n",
      "  copying lib\\cartopy\\tests\\mpl\\baseline_images\\mpl\\test_gridliner\\gridliner_labels_tight.png -> build\\lib.win32-cpython-38\\cartopy\\tests\\mpl\\baseline_images\\mpl\\test_gridliner\n",
      "  copying lib\\cartopy\\tests\\mpl\\baseline_images\\mpl\\test_gridliner\\test_grid_labels_inline_AlbersEqualArea.png -> build\\lib.win32-cpython-38\\cartopy\\tests\\mpl\\baseline_images\\mpl\\test_gridliner\n",
      "  copying lib\\cartopy\\tests\\mpl\\baseline_images\\mpl\\test_gridliner\\test_grid_labels_inline_AzimuthalEquidistant.png -> build\\lib.win32-cpython-38\\cartopy\\tests\\mpl\\baseline_images\\mpl\\test_gridliner\n",
      "  copying lib\\cartopy\\tests\\mpl\\baseline_images\\mpl\\test_gridliner\\test_grid_labels_inline_EuroPP.png -> build\\lib.win32-cpython-38\\cartopy\\tests\\mpl\\baseline_images\\mpl\\test_gridliner\n",
      "  copying lib\\cartopy\\tests\\mpl\\baseline_images\\mpl\\test_gridliner\\test_grid_labels_inline_Geostationary.png -> build\\lib.win32-cpython-38\\cartopy\\tests\\mpl\\baseline_images\\mpl\\test_gridliner\n",
      "  copying lib\\cartopy\\tests\\mpl\\baseline_images\\mpl\\test_gridliner\\test_grid_labels_inline_Gnomonic.png -> build\\lib.win32-cpython-38\\cartopy\\tests\\mpl\\baseline_images\\mpl\\test_gridliner\n",
      "  copying lib\\cartopy\\tests\\mpl\\baseline_images\\mpl\\test_gridliner\\test_grid_labels_inline_InterruptedGoodeHomolosine.png -> build\\lib.win32-cpython-38\\cartopy\\tests\\mpl\\baseline_images\\mpl\\test_gridliner\n",
      "  copying lib\\cartopy\\tests\\mpl\\baseline_images\\mpl\\test_gridliner\\test_grid_labels_inline_LambertAzimuthalEqualArea.png -> build\\lib.win32-cpython-38\\cartopy\\tests\\mpl\\baseline_images\\mpl\\test_gridliner\n",
      "  copying lib\\cartopy\\tests\\mpl\\baseline_images\\mpl\\test_gridliner\\test_grid_labels_inline_LambertConformal.png -> build\\lib.win32-cpython-38\\cartopy\\tests\\mpl\\baseline_images\\mpl\\test_gridliner\n",
      "  copying lib\\cartopy\\tests\\mpl\\baseline_images\\mpl\\test_gridliner\\test_grid_labels_inline_LambertCylindrical.png -> build\\lib.win32-cpython-38\\cartopy\\tests\\mpl\\baseline_images\\mpl\\test_gridliner\n",
      "  copying lib\\cartopy\\tests\\mpl\\baseline_images\\mpl\\test_gridliner\\test_grid_labels_inline_Mercator.png -> build\\lib.win32-cpython-38\\cartopy\\tests\\mpl\\baseline_images\\mpl\\test_gridliner\n",
      "  copying lib\\cartopy\\tests\\mpl\\baseline_images\\mpl\\test_gridliner\\test_grid_labels_inline_Miller.png -> build\\lib.win32-cpython-38\\cartopy\\tests\\mpl\\baseline_images\\mpl\\test_gridliner\n",
      "  copying lib\\cartopy\\tests\\mpl\\baseline_images\\mpl\\test_gridliner\\test_grid_labels_inline_Mollweide.png -> build\\lib.win32-cpython-38\\cartopy\\tests\\mpl\\baseline_images\\mpl\\test_gridliner\n",
      "  copying lib\\cartopy\\tests\\mpl\\baseline_images\\mpl\\test_gridliner\\test_grid_labels_inline_NearsidePerspective.png -> build\\lib.win32-cpython-38\\cartopy\\tests\\mpl\\baseline_images\\mpl\\test_gridliner\n",
      "  copying lib\\cartopy\\tests\\mpl\\baseline_images\\mpl\\test_gridliner\\test_grid_labels_inline_NorthPolarStereo.png -> build\\lib.win32-cpython-38\\cartopy\\tests\\mpl\\baseline_images\\mpl\\test_gridliner\n",
      "  copying lib\\cartopy\\tests\\mpl\\baseline_images\\mpl\\test_gridliner\\test_grid_labels_inline_Orthographic.png -> build\\lib.win32-cpython-38\\cartopy\\tests\\mpl\\baseline_images\\mpl\\test_gridliner\n",
      "  copying lib\\cartopy\\tests\\mpl\\baseline_images\\mpl\\test_gridliner\\test_grid_labels_inline_OSGB.png -> build\\lib.win32-cpython-38\\cartopy\\tests\\mpl\\baseline_images\\mpl\\test_gridliner\n",
      "  copying lib\\cartopy\\tests\\mpl\\baseline_images\\mpl\\test_gridliner\\test_grid_labels_inline_OSNI.png -> build\\lib.win32-cpython-38\\cartopy\\tests\\mpl\\baseline_images\\mpl\\test_gridliner\n",
      "  copying lib\\cartopy\\tests\\mpl\\baseline_images\\mpl\\test_gridliner\\test_grid_labels_inline_PlateCarree.png -> build\\lib.win32-cpython-38\\cartopy\\tests\\mpl\\baseline_images\\mpl\\test_gridliner\n",
      "  copying lib\\cartopy\\tests\\mpl\\baseline_images\\mpl\\test_gridliner\\test_grid_labels_inline_Robinson.png -> build\\lib.win32-cpython-38\\cartopy\\tests\\mpl\\baseline_images\\mpl\\test_gridliner\n",
      "  copying lib\\cartopy\\tests\\mpl\\baseline_images\\mpl\\test_gridliner\\test_grid_labels_inline_RotatedPole.png -> build\\lib.win32-cpython-38\\cartopy\\tests\\mpl\\baseline_images\\mpl\\test_gridliner\n",
      "  copying lib\\cartopy\\tests\\mpl\\baseline_images\\mpl\\test_gridliner\\test_grid_labels_inline_Sinusoidal.png -> build\\lib.win32-cpython-38\\cartopy\\tests\\mpl\\baseline_images\\mpl\\test_gridliner\n",
      "  copying lib\\cartopy\\tests\\mpl\\baseline_images\\mpl\\test_gridliner\\test_grid_labels_inline_SouthPolarStereo.png -> build\\lib.win32-cpython-38\\cartopy\\tests\\mpl\\baseline_images\\mpl\\test_gridliner\n",
      "  copying lib\\cartopy\\tests\\mpl\\baseline_images\\mpl\\test_gridliner\\test_grid_labels_inline_Stereographic.png -> build\\lib.win32-cpython-38\\cartopy\\tests\\mpl\\baseline_images\\mpl\\test_gridliner\n",
      "  copying lib\\cartopy\\tests\\mpl\\baseline_images\\mpl\\test_gridliner\\test_grid_labels_inline_usa_AlbersEqualArea.png -> build\\lib.win32-cpython-38\\cartopy\\tests\\mpl\\baseline_images\\mpl\\test_gridliner\n",
      "  copying lib\\cartopy\\tests\\mpl\\baseline_images\\mpl\\test_gridliner\\test_grid_labels_inline_usa_AzimuthalEquidistant.png -> build\\lib.win32-cpython-38\\cartopy\\tests\\mpl\\baseline_images\\mpl\\test_gridliner\n",
      "  copying lib\\cartopy\\tests\\mpl\\baseline_images\\mpl\\test_gridliner\\test_grid_labels_inline_usa_Geostationary.png -> build\\lib.win32-cpython-38\\cartopy\\tests\\mpl\\baseline_images\\mpl\\test_gridliner\n",
      "  copying lib\\cartopy\\tests\\mpl\\baseline_images\\mpl\\test_gridliner\\test_grid_labels_inline_usa_Gnomonic.png -> build\\lib.win32-cpython-38\\cartopy\\tests\\mpl\\baseline_images\\mpl\\test_gridliner\n",
      "  copying lib\\cartopy\\tests\\mpl\\baseline_images\\mpl\\test_gridliner\\test_grid_labels_inline_usa_InterruptedGoodeHomolosine.png -> build\\lib.win32-cpython-38\\cartopy\\tests\\mpl\\baseline_images\\mpl\\test_gridliner\n",
      "  copying lib\\cartopy\\tests\\mpl\\baseline_images\\mpl\\test_gridliner\\test_grid_labels_inline_usa_LambertAzimuthalEqualArea.png -> build\\lib.win32-cpython-38\\cartopy\\tests\\mpl\\baseline_images\\mpl\\test_gridliner\n",
      "  copying lib\\cartopy\\tests\\mpl\\baseline_images\\mpl\\test_gridliner\\test_grid_labels_inline_usa_LambertConformal.png -> build\\lib.win32-cpython-38\\cartopy\\tests\\mpl\\baseline_images\\mpl\\test_gridliner\n",
      "  copying lib\\cartopy\\tests\\mpl\\baseline_images\\mpl\\test_gridliner\\test_grid_labels_inline_usa_LambertCylindrical.png -> build\\lib.win32-cpython-38\\cartopy\\tests\\mpl\\baseline_images\\mpl\\test_gridliner\n",
      "  copying lib\\cartopy\\tests\\mpl\\baseline_images\\mpl\\test_gridliner\\test_grid_labels_inline_usa_Mercator.png -> build\\lib.win32-cpython-38\\cartopy\\tests\\mpl\\baseline_images\\mpl\\test_gridliner\n",
      "  copying lib\\cartopy\\tests\\mpl\\baseline_images\\mpl\\test_gridliner\\test_grid_labels_inline_usa_Miller.png -> build\\lib.win32-cpython-38\\cartopy\\tests\\mpl\\baseline_images\\mpl\\test_gridliner\n",
      "  copying lib\\cartopy\\tests\\mpl\\baseline_images\\mpl\\test_gridliner\\test_grid_labels_inline_usa_Mollweide.png -> build\\lib.win32-cpython-38\\cartopy\\tests\\mpl\\baseline_images\\mpl\\test_gridliner\n",
      "  copying lib\\cartopy\\tests\\mpl\\baseline_images\\mpl\\test_gridliner\\test_grid_labels_inline_usa_NearsidePerspective.png -> build\\lib.win32-cpython-38\\cartopy\\tests\\mpl\\baseline_images\\mpl\\test_gridliner\n",
      "  copying lib\\cartopy\\tests\\mpl\\baseline_images\\mpl\\test_gridliner\\test_grid_labels_inline_usa_NorthPolarStereo.png -> build\\lib.win32-cpython-38\\cartopy\\tests\\mpl\\baseline_images\\mpl\\test_gridliner\n",
      "  copying lib\\cartopy\\tests\\mpl\\baseline_images\\mpl\\test_gridliner\\test_grid_labels_inline_usa_Orthographic.png -> build\\lib.win32-cpython-38\\cartopy\\tests\\mpl\\baseline_images\\mpl\\test_gridliner\n",
      "  copying lib\\cartopy\\tests\\mpl\\baseline_images\\mpl\\test_gridliner\\test_grid_labels_inline_usa_PlateCarree.png -> build\\lib.win32-cpython-38\\cartopy\\tests\\mpl\\baseline_images\\mpl\\test_gridliner\n",
      "  copying lib\\cartopy\\tests\\mpl\\baseline_images\\mpl\\test_gridliner\\test_grid_labels_inline_usa_Robinson.png -> build\\lib.win32-cpython-38\\cartopy\\tests\\mpl\\baseline_images\\mpl\\test_gridliner\n",
      "  copying lib\\cartopy\\tests\\mpl\\baseline_images\\mpl\\test_gridliner\\test_grid_labels_inline_usa_RotatedPole.png -> build\\lib.win32-cpython-38\\cartopy\\tests\\mpl\\baseline_images\\mpl\\test_gridliner\n",
      "  copying lib\\cartopy\\tests\\mpl\\baseline_images\\mpl\\test_gridliner\\test_grid_labels_inline_usa_Sinusoidal.png -> build\\lib.win32-cpython-38\\cartopy\\tests\\mpl\\baseline_images\\mpl\\test_gridliner\n",
      "  copying lib\\cartopy\\tests\\mpl\\baseline_images\\mpl\\test_gridliner\\test_grid_labels_inline_usa_SouthPolarStereo.png -> build\\lib.win32-cpython-38\\cartopy\\tests\\mpl\\baseline_images\\mpl\\test_gridliner\n",
      "  copying lib\\cartopy\\tests\\mpl\\baseline_images\\mpl\\test_gridliner\\test_grid_labels_inline_usa_Stereographic.png -> build\\lib.win32-cpython-38\\cartopy\\tests\\mpl\\baseline_images\\mpl\\test_gridliner\n",
      "  creating build\\lib.win32-cpython-38\\cartopy\\tests\\mpl\\baseline_images\\mpl\\test_images\n",
      "  copying lib\\cartopy\\tests\\mpl\\baseline_images\\mpl\\test_images\\image_merge.png -> build\\lib.win32-cpython-38\\cartopy\\tests\\mpl\\baseline_images\\mpl\\test_images\n",
      "  copying lib\\cartopy\\tests\\mpl\\baseline_images\\mpl\\test_images\\image_nest.png -> build\\lib.win32-cpython-38\\cartopy\\tests\\mpl\\baseline_images\\mpl\\test_images\n",
      "  copying lib\\cartopy\\tests\\mpl\\baseline_images\\mpl\\test_images\\imshow_natural_earth_ortho.png -> build\\lib.win32-cpython-38\\cartopy\\tests\\mpl\\baseline_images\\mpl\\test_images\n",
      "  copying lib\\cartopy\\tests\\mpl\\baseline_images\\mpl\\test_images\\imshow_regional_projected.png -> build\\lib.win32-cpython-38\\cartopy\\tests\\mpl\\baseline_images\\mpl\\test_images\n",
      "  copying lib\\cartopy\\tests\\mpl\\baseline_images\\mpl\\test_images\\web_tiles.png -> build\\lib.win32-cpython-38\\cartopy\\tests\\mpl\\baseline_images\\mpl\\test_images\n",
      "  creating build\\lib.win32-cpython-38\\cartopy\\tests\\mpl\\baseline_images\\mpl\\test_img_tiles2\n",
      "  copying lib\\cartopy\\tests\\mpl\\baseline_images\\mpl\\test_img_tiles2\\web_tiles.png -> build\\lib.win32-cpython-38\\cartopy\\tests\\mpl\\baseline_images\\mpl\\test_img_tiles2\n",
      "  creating build\\lib.win32-cpython-38\\cartopy\\tests\\mpl\\baseline_images\\mpl\\test_img_transform\n",
      "  copying lib\\cartopy\\tests\\mpl\\baseline_images\\mpl\\test_img_transform\\regrid_image.png -> build\\lib.win32-cpython-38\\cartopy\\tests\\mpl\\baseline_images\\mpl\\test_img_transform\n",
      "  creating build\\lib.win32-cpython-38\\cartopy\\tests\\mpl\\baseline_images\\mpl\\test_mpl_integration\n",
      "  copying lib\\cartopy\\tests\\mpl\\baseline_images\\mpl\\test_mpl_integration\\barbs_1d.png -> build\\lib.win32-cpython-38\\cartopy\\tests\\mpl\\baseline_images\\mpl\\test_mpl_integration\n",
      "  copying lib\\cartopy\\tests\\mpl\\baseline_images\\mpl\\test_mpl_integration\\barbs_1d_transformed.png -> build\\lib.win32-cpython-38\\cartopy\\tests\\mpl\\baseline_images\\mpl\\test_mpl_integration\n",
      "  copying lib\\cartopy\\tests\\mpl\\baseline_images\\mpl\\test_mpl_integration\\barbs_plate_carree.png -> build\\lib.win32-cpython-38\\cartopy\\tests\\mpl\\baseline_images\\mpl\\test_mpl_integration\n",
      "  copying lib\\cartopy\\tests\\mpl\\baseline_images\\mpl\\test_mpl_integration\\barbs_regrid.png -> build\\lib.win32-cpython-38\\cartopy\\tests\\mpl\\baseline_images\\mpl\\test_mpl_integration\n",
      "  copying lib\\cartopy\\tests\\mpl\\baseline_images\\mpl\\test_mpl_integration\\barbs_regrid_with_extent.png -> build\\lib.win32-cpython-38\\cartopy\\tests\\mpl\\baseline_images\\mpl\\test_mpl_integration\n",
      "  copying lib\\cartopy\\tests\\mpl\\baseline_images\\mpl\\test_mpl_integration\\global_contourf_wrap.png -> build\\lib.win32-cpython-38\\cartopy\\tests\\mpl\\baseline_images\\mpl\\test_mpl_integration\n",
      "  copying lib\\cartopy\\tests\\mpl\\baseline_images\\mpl\\test_mpl_integration\\global_contour_wrap.png -> build\\lib.win32-cpython-38\\cartopy\\tests\\mpl\\baseline_images\\mpl\\test_mpl_integration\n",
      "  copying lib\\cartopy\\tests\\mpl\\baseline_images\\mpl\\test_mpl_integration\\global_hexbin_wrap.png -> build\\lib.win32-cpython-38\\cartopy\\tests\\mpl\\baseline_images\\mpl\\test_mpl_integration\n",
      "  copying lib\\cartopy\\tests\\mpl\\baseline_images\\mpl\\test_mpl_integration\\global_pcolor_wrap.png -> build\\lib.win32-cpython-38\\cartopy\\tests\\mpl\\baseline_images\\mpl\\test_mpl_integration\n",
      "  copying lib\\cartopy\\tests\\mpl\\baseline_images\\mpl\\test_mpl_integration\\global_scatter_wrap.png -> build\\lib.win32-cpython-38\\cartopy\\tests\\mpl\\baseline_images\\mpl\\test_mpl_integration\n",
      "  copying lib\\cartopy\\tests\\mpl\\baseline_images\\mpl\\test_mpl_integration\\pcolormesh_global_wrap1.png -> build\\lib.win32-cpython-38\\cartopy\\tests\\mpl\\baseline_images\\mpl\\test_mpl_integration\n",
      "  copying lib\\cartopy\\tests\\mpl\\baseline_images\\mpl\\test_mpl_integration\\pcolormesh_global_wrap2.png -> build\\lib.win32-cpython-38\\cartopy\\tests\\mpl\\baseline_images\\mpl\\test_mpl_integration\n",
      "  copying lib\\cartopy\\tests\\mpl\\baseline_images\\mpl\\test_mpl_integration\\pcolormesh_global_wrap3.png -> build\\lib.win32-cpython-38\\cartopy\\tests\\mpl\\baseline_images\\mpl\\test_mpl_integration\n",
      "  copying lib\\cartopy\\tests\\mpl\\baseline_images\\mpl\\test_mpl_integration\\pcolormesh_goode_wrap.png -> build\\lib.win32-cpython-38\\cartopy\\tests\\mpl\\baseline_images\\mpl\\test_mpl_integration\n",
      "  copying lib\\cartopy\\tests\\mpl\\baseline_images\\mpl\\test_mpl_integration\\pcolormesh_limited_area_wrap.png -> build\\lib.win32-cpython-38\\cartopy\\tests\\mpl\\baseline_images\\mpl\\test_mpl_integration\n",
      "  copying lib\\cartopy\\tests\\mpl\\baseline_images\\mpl\\test_mpl_integration\\pcolormesh_mercator_wrap.png -> build\\lib.win32-cpython-38\\cartopy\\tests\\mpl\\baseline_images\\mpl\\test_mpl_integration\n",
      "  copying lib\\cartopy\\tests\\mpl\\baseline_images\\mpl\\test_mpl_integration\\pcolormesh_single_column_wrap.png -> build\\lib.win32-cpython-38\\cartopy\\tests\\mpl\\baseline_images\\mpl\\test_mpl_integration\n",
      "  copying lib\\cartopy\\tests\\mpl\\baseline_images\\mpl\\test_mpl_integration\\quiver_plate_carree.png -> build\\lib.win32-cpython-38\\cartopy\\tests\\mpl\\baseline_images\\mpl\\test_mpl_integration\n",
      "  copying lib\\cartopy\\tests\\mpl\\baseline_images\\mpl\\test_mpl_integration\\quiver_regrid.png -> build\\lib.win32-cpython-38\\cartopy\\tests\\mpl\\baseline_images\\mpl\\test_mpl_integration\n",
      "  copying lib\\cartopy\\tests\\mpl\\baseline_images\\mpl\\test_mpl_integration\\quiver_regrid_with_extent.png -> build\\lib.win32-cpython-38\\cartopy\\tests\\mpl\\baseline_images\\mpl\\test_mpl_integration\n",
      "  copying lib\\cartopy\\tests\\mpl\\baseline_images\\mpl\\test_mpl_integration\\quiver_rotated_pole.png -> build\\lib.win32-cpython-38\\cartopy\\tests\\mpl\\baseline_images\\mpl\\test_mpl_integration\n",
      "  copying lib\\cartopy\\tests\\mpl\\baseline_images\\mpl\\test_mpl_integration\\simple_global.png -> build\\lib.win32-cpython-38\\cartopy\\tests\\mpl\\baseline_images\\mpl\\test_mpl_integration\n",
      "  copying lib\\cartopy\\tests\\mpl\\baseline_images\\mpl\\test_mpl_integration\\streamplot.png -> build\\lib.win32-cpython-38\\cartopy\\tests\\mpl\\baseline_images\\mpl\\test_mpl_integration\n",
      "  copying lib\\cartopy\\tests\\mpl\\baseline_images\\mpl\\test_mpl_integration\\test_annotate.png -> build\\lib.win32-cpython-38\\cartopy\\tests\\mpl\\baseline_images\\mpl\\test_mpl_integration\n",
      "  copying lib\\cartopy\\tests\\mpl\\baseline_images\\mpl\\test_mpl_integration\\test_global_map_EckertI.png -> build\\lib.win32-cpython-38\\cartopy\\tests\\mpl\\baseline_images\\mpl\\test_mpl_integration\n",
      "  copying lib\\cartopy\\tests\\mpl\\baseline_images\\mpl\\test_mpl_integration\\test_global_map_EckertII.png -> build\\lib.win32-cpython-38\\cartopy\\tests\\mpl\\baseline_images\\mpl\\test_mpl_integration\n",
      "  copying lib\\cartopy\\tests\\mpl\\baseline_images\\mpl\\test_mpl_integration\\test_global_map_EckertIII.png -> build\\lib.win32-cpython-38\\cartopy\\tests\\mpl\\baseline_images\\mpl\\test_mpl_integration\n",
      "  copying lib\\cartopy\\tests\\mpl\\baseline_images\\mpl\\test_mpl_integration\\test_global_map_EckertIV.png -> build\\lib.win32-cpython-38\\cartopy\\tests\\mpl\\baseline_images\\mpl\\test_mpl_integration\n",
      "  copying lib\\cartopy\\tests\\mpl\\baseline_images\\mpl\\test_mpl_integration\\test_global_map_EckertV.png -> build\\lib.win32-cpython-38\\cartopy\\tests\\mpl\\baseline_images\\mpl\\test_mpl_integration\n",
      "  copying lib\\cartopy\\tests\\mpl\\baseline_images\\mpl\\test_mpl_integration\\test_global_map_EckertVI.png -> build\\lib.win32-cpython-38\\cartopy\\tests\\mpl\\baseline_images\\mpl\\test_mpl_integration\n",
      "  copying lib\\cartopy\\tests\\mpl\\baseline_images\\mpl\\test_mpl_integration\\test_global_map_EqualEarth.png -> build\\lib.win32-cpython-38\\cartopy\\tests\\mpl\\baseline_images\\mpl\\test_mpl_integration\n",
      "  copying lib\\cartopy\\tests\\mpl\\baseline_images\\mpl\\test_mpl_integration\\test_global_map_Gnomonic.png -> build\\lib.win32-cpython-38\\cartopy\\tests\\mpl\\baseline_images\\mpl\\test_mpl_integration\n",
      "  copying lib\\cartopy\\tests\\mpl\\baseline_images\\mpl\\test_mpl_integration\\test_global_map_InterruptedGoodeHomolosine.png -> build\\lib.win32-cpython-38\\cartopy\\tests\\mpl\\baseline_images\\mpl\\test_mpl_integration\n",
      "  copying lib\\cartopy\\tests\\mpl\\baseline_images\\mpl\\test_mpl_integration\\test_global_map_LambertCylindrical.png -> build\\lib.win32-cpython-38\\cartopy\\tests\\mpl\\baseline_images\\mpl\\test_mpl_integration\n",
      "  copying lib\\cartopy\\tests\\mpl\\baseline_images\\mpl\\test_mpl_integration\\test_global_map_Mercator.png -> build\\lib.win32-cpython-38\\cartopy\\tests\\mpl\\baseline_images\\mpl\\test_mpl_integration\n",
      "  copying lib\\cartopy\\tests\\mpl\\baseline_images\\mpl\\test_mpl_integration\\test_global_map_Miller.png -> build\\lib.win32-cpython-38\\cartopy\\tests\\mpl\\baseline_images\\mpl\\test_mpl_integration\n",
      "  copying lib\\cartopy\\tests\\mpl\\baseline_images\\mpl\\test_mpl_integration\\test_global_map_Mollweide.png -> build\\lib.win32-cpython-38\\cartopy\\tests\\mpl\\baseline_images\\mpl\\test_mpl_integration\n",
      "  copying lib\\cartopy\\tests\\mpl\\baseline_images\\mpl\\test_mpl_integration\\test_global_map_NorthPolarStereo.png -> build\\lib.win32-cpython-38\\cartopy\\tests\\mpl\\baseline_images\\mpl\\test_mpl_integration\n",
      "  copying lib\\cartopy\\tests\\mpl\\baseline_images\\mpl\\test_mpl_integration\\test_global_map_Orthographic.png -> build\\lib.win32-cpython-38\\cartopy\\tests\\mpl\\baseline_images\\mpl\\test_mpl_integration\n",
      "  copying lib\\cartopy\\tests\\mpl\\baseline_images\\mpl\\test_mpl_integration\\test_global_map_OSGB.png -> build\\lib.win32-cpython-38\\cartopy\\tests\\mpl\\baseline_images\\mpl\\test_mpl_integration\n",
      "  copying lib\\cartopy\\tests\\mpl\\baseline_images\\mpl\\test_mpl_integration\\test_global_map_PlateCarree.png -> build\\lib.win32-cpython-38\\cartopy\\tests\\mpl\\baseline_images\\mpl\\test_mpl_integration\n",
      "  copying lib\\cartopy\\tests\\mpl\\baseline_images\\mpl\\test_mpl_integration\\test_global_map_Robinson.png -> build\\lib.win32-cpython-38\\cartopy\\tests\\mpl\\baseline_images\\mpl\\test_mpl_integration\n",
      "  copying lib\\cartopy\\tests\\mpl\\baseline_images\\mpl\\test_mpl_integration\\test_global_map_RotatedPole.png -> build\\lib.win32-cpython-38\\cartopy\\tests\\mpl\\baseline_images\\mpl\\test_mpl_integration\n",
      "  copying lib\\cartopy\\tests\\mpl\\baseline_images\\mpl\\test_mpl_integration\\test_global_map_SouthPolarStereo.png -> build\\lib.win32-cpython-38\\cartopy\\tests\\mpl\\baseline_images\\mpl\\test_mpl_integration\n",
      "  copying lib\\cartopy\\tests\\mpl\\baseline_images\\mpl\\test_mpl_integration\\test_global_map_Stereographic.png -> build\\lib.win32-cpython-38\\cartopy\\tests\\mpl\\baseline_images\\mpl\\test_mpl_integration\n",
      "  copying lib\\cartopy\\tests\\mpl\\baseline_images\\mpl\\test_mpl_integration\\test_global_map_TransverseMercator.png -> build\\lib.win32-cpython-38\\cartopy\\tests\\mpl\\baseline_images\\mpl\\test_mpl_integration\n",
      "  creating build\\lib.win32-cpython-38\\cartopy\\tests\\mpl\\baseline_images\\mpl\\test_nightshade\n",
      "  copying lib\\cartopy\\tests\\mpl\\baseline_images\\mpl\\test_nightshade\\nightshade_platecarree.png -> build\\lib.win32-cpython-38\\cartopy\\tests\\mpl\\baseline_images\\mpl\\test_nightshade\n",
      "  creating build\\lib.win32-cpython-38\\cartopy\\tests\\mpl\\baseline_images\\mpl\\test_shapely_to_mpl\n",
      "  copying lib\\cartopy\\tests\\mpl\\baseline_images\\mpl\\test_shapely_to_mpl\\contour_with_interiors.png -> build\\lib.win32-cpython-38\\cartopy\\tests\\mpl\\baseline_images\\mpl\\test_shapely_to_mpl\n",
      "  copying lib\\cartopy\\tests\\mpl\\baseline_images\\mpl\\test_shapely_to_mpl\\poly_interiors.png -> build\\lib.win32-cpython-38\\cartopy\\tests\\mpl\\baseline_images\\mpl\\test_shapely_to_mpl\n",
      "  creating build\\lib.win32-cpython-38\\cartopy\\tests\\mpl\\baseline_images\\mpl\\test_ticks\n",
      "  copying lib\\cartopy\\tests\\mpl\\baseline_images\\mpl\\test_ticks\\xticks_cylindrical.png -> build\\lib.win32-cpython-38\\cartopy\\tests\\mpl\\baseline_images\\mpl\\test_ticks\n",
      "  copying lib\\cartopy\\tests\\mpl\\baseline_images\\mpl\\test_ticks\\xticks_no_transform.png -> build\\lib.win32-cpython-38\\cartopy\\tests\\mpl\\baseline_images\\mpl\\test_ticks\n",
      "  copying lib\\cartopy\\tests\\mpl\\baseline_images\\mpl\\test_ticks\\xyticks.png -> build\\lib.win32-cpython-38\\cartopy\\tests\\mpl\\baseline_images\\mpl\\test_ticks\n",
      "  copying lib\\cartopy\\tests\\mpl\\baseline_images\\mpl\\test_ticks\\yticks_cylindrical.png -> build\\lib.win32-cpython-38\\cartopy\\tests\\mpl\\baseline_images\\mpl\\test_ticks\n",
      "  copying lib\\cartopy\\tests\\mpl\\baseline_images\\mpl\\test_ticks\\yticks_no_transform.png -> build\\lib.win32-cpython-38\\cartopy\\tests\\mpl\\baseline_images\\mpl\\test_ticks\n",
      "  creating build\\lib.win32-cpython-38\\cartopy\\tests\\mpl\\baseline_images\\mpl\\test_web_services\n",
      "  copying lib\\cartopy\\tests\\mpl\\baseline_images\\mpl\\test_web_services\\wms.png -> build\\lib.win32-cpython-38\\cartopy\\tests\\mpl\\baseline_images\\mpl\\test_web_services\n",
      "  copying lib\\cartopy\\tests\\mpl\\baseline_images\\mpl\\test_web_services\\wmts.png -> build\\lib.win32-cpython-38\\cartopy\\tests\\mpl\\baseline_images\\mpl\\test_web_services\n",
      "  creating build\\lib.win32-cpython-38\\cartopy\\data\n",
      "  creating build\\lib.win32-cpython-38\\cartopy\\data\\raster\n",
      "  creating build\\lib.win32-cpython-38\\cartopy\\data\\raster\\natural_earth\n",
      "  copying lib\\cartopy\\data\\raster\\natural_earth\\50-natural-earth-1-downsampled.png -> build\\lib.win32-cpython-38\\cartopy\\data\\raster\\natural_earth\n",
      "  copying lib\\cartopy\\data\\raster\\natural_earth\\images.json -> build\\lib.win32-cpython-38\\cartopy\\data\\raster\\natural_earth\n",
      "  creating build\\lib.win32-cpython-38\\cartopy\\data\\raster\\sample\n",
      "  copying lib\\cartopy\\data\\raster\\sample\\Miriam.A2012270.2050.2km.jpg -> build\\lib.win32-cpython-38\\cartopy\\data\\raster\\sample\n",
      "  copying lib\\cartopy\\data\\raster\\sample\\Miriam.A2012270.2050.2km.README.txt -> build\\lib.win32-cpython-38\\cartopy\\data\\raster\\sample\n",
      "  creating build\\lib.win32-cpython-38\\cartopy\\data\\netcdf\n",
      "  copying lib\\cartopy\\data\\netcdf\\HadISST1_SST_update.nc -> build\\lib.win32-cpython-38\\cartopy\\data\\netcdf\n",
      "  copying lib\\cartopy\\data\\netcdf\\HadISST1_SST_update.README.txt -> build\\lib.win32-cpython-38\\cartopy\\data\\netcdf\n",
      "  creating build\\lib.win32-cpython-38\\cartopy\\data\\shapefiles\n",
      "  creating build\\lib.win32-cpython-38\\cartopy\\data\\shapefiles\\gshhs\n",
      "  copying lib\\cartopy\\data\\shapefiles\\gshhs\\README.TXT -> build\\lib.win32-cpython-38\\cartopy\\data\\shapefiles\\gshhs\n",
      "  creating build\\lib.win32-cpython-38\\cartopy\\data\\shapefiles\\gshhs\\c\n",
      "  copying lib\\cartopy\\data\\shapefiles\\gshhs\\c\\GSHHS_c_L1.dbf -> build\\lib.win32-cpython-38\\cartopy\\data\\shapefiles\\gshhs\\c\n",
      "  copying lib\\cartopy\\data\\shapefiles\\gshhs\\c\\GSHHS_c_L1.shp -> build\\lib.win32-cpython-38\\cartopy\\data\\shapefiles\\gshhs\\c\n",
      "  copying lib\\cartopy\\data\\shapefiles\\gshhs\\c\\GSHHS_c_L1.shx -> build\\lib.win32-cpython-38\\cartopy\\data\\shapefiles\\gshhs\\c\n",
      "  creating build\\lib.win32-cpython-38\\cartopy\\data\\shapefiles\\gshhs\\l\n",
      "  copying lib\\cartopy\\data\\shapefiles\\gshhs\\l\\GSHHS_l_L2.dbf -> build\\lib.win32-cpython-38\\cartopy\\data\\shapefiles\\gshhs\\l\n",
      "  copying lib\\cartopy\\data\\shapefiles\\gshhs\\l\\GSHHS_l_L2.shp -> build\\lib.win32-cpython-38\\cartopy\\data\\shapefiles\\gshhs\\l\n",
      "  copying lib\\cartopy\\data\\shapefiles\\gshhs\\l\\GSHHS_l_L2.shx -> build\\lib.win32-cpython-38\\cartopy\\data\\shapefiles\\gshhs\\l\n",
      "  creating build\\lib.win32-cpython-38\\cartopy\\tests\\lakes_shapefile\n",
      "  copying lib\\cartopy\\tests\\lakes_shapefile\\ne_110m_lakes.dbf -> build\\lib.win32-cpython-38\\cartopy\\tests\\lakes_shapefile\n",
      "  copying lib\\cartopy\\tests\\lakes_shapefile\\ne_110m_lakes.shp -> build\\lib.win32-cpython-38\\cartopy\\tests\\lakes_shapefile\n",
      "  copying lib\\cartopy\\tests\\lakes_shapefile\\ne_110m_lakes.shx -> build\\lib.win32-cpython-38\\cartopy\\tests\\lakes_shapefile\n",
      "  copying lib\\cartopy\\io\\srtm.npz -> build\\lib.win32-cpython-38\\cartopy\\io\n",
      "  running build_ext\n",
      "  building 'cartopy.trace' extension\n",
      "  <string>:90: UserWarning: Unable to determine GEOS version. Ensure you have 3.7.2 or later installed, or installation may fail.\n",
      "  error: Microsoft Visual C++ 14.0 or greater is required. Get it with \"Microsoft C++ Build Tools\": https://visualstudio.microsoft.com/visual-cpp-build-tools/\n",
      "  ----------------------------------------\n",
      "  ERROR: Failed building wheel for cartopy\n",
      "ERROR: Could not build wheels for cartopy which use PEP 517 and cannot be installed directly\n"
     ]
    },
    {
     "ename": "ModuleNotFoundError",
     "evalue": "No module named 'cartopy'",
     "output_type": "error",
     "traceback": [
      "\u001b[1;31m---------------------------------------------------------------------------\u001b[0m",
      "\u001b[1;31mModuleNotFoundError\u001b[0m                       Traceback (most recent call last)",
      "\u001b[1;32m<ipython-input-4-fb22ff0ef2c6>\u001b[0m in \u001b[0;36m<module>\u001b[1;34m\u001b[0m\n\u001b[0;32m      1\u001b[0m \u001b[0mget_ipython\u001b[0m\u001b[1;33m(\u001b[0m\u001b[1;33m)\u001b[0m\u001b[1;33m.\u001b[0m\u001b[0msystem\u001b[0m\u001b[1;33m(\u001b[0m\u001b[1;34m'pip install cartopy'\u001b[0m\u001b[1;33m)\u001b[0m\u001b[1;33m\u001b[0m\u001b[1;33m\u001b[0m\u001b[0m\n\u001b[1;32m----> 2\u001b[1;33m \u001b[1;32mimport\u001b[0m \u001b[0mcartopy\u001b[0m\u001b[1;33m\u001b[0m\u001b[1;33m\u001b[0m\u001b[0m\n\u001b[0m",
      "\u001b[1;31mModuleNotFoundError\u001b[0m: No module named 'cartopy'"
     ]
    }
   ],
   "source": [
    "!pip install cartopy\n",
    "import cartopy"
   ]
  },
  {
   "cell_type": "code",
   "execution_count": 5,
   "metadata": {
    "colab": {
     "base_uri": "https://localhost:8080/"
    },
    "id": "uY2rNWcLKuhg",
    "outputId": "67272143-be6a-42ce-bce6-148ef708754c"
   },
   "outputs": [
    {
     "name": "stdout",
     "output_type": "stream",
     "text": [
      "Requirement already satisfied: nltk in c:\\users\\shivani\\anaconda3\\lib\\site-packages (3.5)\n",
      "Requirement already satisfied: click in c:\\users\\shivani\\anaconda3\\lib\\site-packages (from nltk) (7.1.2)\n",
      "Requirement already satisfied: regex in c:\\users\\shivani\\anaconda3\\lib\\site-packages (from nltk) (2020.10.15)\n",
      "Requirement already satisfied: tqdm in c:\\users\\shivani\\anaconda3\\lib\\site-packages (from nltk) (4.50.2)\n",
      "Requirement already satisfied: joblib in c:\\users\\shivani\\anaconda3\\lib\\site-packages (from nltk) (0.17.0)\n"
     ]
    },
    {
     "name": "stderr",
     "output_type": "stream",
     "text": [
      "[nltk_data] Downloading package stopwords to\n",
      "[nltk_data]     C:\\Users\\Shivani\\AppData\\Roaming\\nltk_data...\n"
     ]
    },
    {
     "name": "stdout",
     "output_type": "stream",
     "text": [
      "Matching candidates:\n",
      "No matching candidates found.\n"
     ]
    },
    {
     "name": "stderr",
     "output_type": "stream",
     "text": [
      "[nltk_data]   Unzipping corpora\\stopwords.zip.\n",
      "[nltk_data] Downloading package punkt to\n",
      "[nltk_data]     C:\\Users\\Shivani\\AppData\\Roaming\\nltk_data...\n",
      "[nltk_data]   Package punkt is already up-to-date!\n"
     ]
    }
   ],
   "source": [
    "#resume \n",
    "!pip install nltk\n",
    "\n",
    "import nltk\n",
    "from nltk.corpus import stopwords\n",
    "from nltk.tokenize import word_tokenize\n",
    "\n",
    "nltk.download('stopwords')\n",
    "nltk.download('punkt')\n",
    "def find_matching_candidates(resume, job_keywords):\n",
    "    resume_tokens = word_tokenize(resume.lower())\n",
    "    stop_words = set(stopwords.words(\"english\"))\n",
    "    filtered_resume_tokens = [token for token in resume_tokens if token not in stop_words]\n",
    "    matching_candidates = []\n",
    "    for keyword in job_keywords:\n",
    "        if keyword in filtered_resume_tokens:\n",
    "            matching_candidates.append(keyword)\n",
    "\n",
    "    return matching_candidates\n",
    "resume = \"Highly motivated person with in the domain of computer science. I am very creative and can handle the work pressure. I am highly self-motivated and fast learner.\"\n",
    "\n",
    "job_keywords = [\"software engineer\", \"Python\", \"machine learning\", \"TensorFlow\"]\n",
    "\n",
    "matching_candidates = find_matching_candidates(resume, job_keywords)\n",
    "print(\"Matching candidates:\")\n",
    "if matching_candidates:\n",
    "    for candidate in matching_candidates:\n",
    "        print(candidate)\n",
    "else:\n",
    "    print(\"No matching candidates found.\")\n"
   ]
  },
  {
   "cell_type": "code",
   "execution_count": null,
   "metadata": {},
   "outputs": [],
   "source": []
  }
 ],
 "metadata": {
  "colab": {
   "provenance": []
  },
  "kernelspec": {
   "display_name": "Python 3",
   "language": "python",
   "name": "python3"
  },
  "language_info": {
   "codemirror_mode": {
    "name": "ipython",
    "version": 3
   },
   "file_extension": ".py",
   "mimetype": "text/x-python",
   "name": "python",
   "nbconvert_exporter": "python",
   "pygments_lexer": "ipython3",
   "version": "3.8.5"
  }
 },
 "nbformat": 4,
 "nbformat_minor": 1
}
